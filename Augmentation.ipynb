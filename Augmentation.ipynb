{
  "nbformat": 4,
  "nbformat_minor": 0,
  "metadata": {
    "colab": {
      "provenance": [],
      "authorship_tag": "ABX9TyN2dbvmlWYCPr4qnRl41YMO",
      "include_colab_link": true
    },
    "kernelspec": {
      "name": "python3",
      "display_name": "Python 3"
    },
    "language_info": {
      "name": "python"
    }
  },
  "cells": [
    {
      "cell_type": "markdown",
      "metadata": {
        "id": "view-in-github",
        "colab_type": "text"
      },
      "source": [
        "<a href=\"https://colab.research.google.com/github/RizkiNoor16/Machine-vision-test-challenge/blob/main/Augmentation.ipynb\" target=\"_parent\"><img src=\"https://colab.research.google.com/assets/colab-badge.svg\" alt=\"Open In Colab\"/></a>"
      ]
    },
    {
      "cell_type": "code",
      "execution_count": null,
      "metadata": {
        "colab": {
          "base_uri": "https://localhost:8080/"
        },
        "id": "-eUwV9NX2Hpy",
        "outputId": "d9a42dcd-09ac-47c1-8e05-008cac0ceb73"
      },
      "outputs": [
        {
          "output_type": "stream",
          "name": "stdout",
          "text": [
            "Cloning into 'Machine-vision-test-challenge'...\n",
            "remote: Enumerating objects: 28, done.\u001b[K\n",
            "remote: Counting objects: 100% (28/28), done.\u001b[K\n",
            "remote: Compressing objects: 100% (24/24), done.\u001b[K\n",
            "remote: Total 28 (delta 5), reused 0 (delta 0), pack-reused 0\u001b[K\n",
            "Unpacking objects: 100% (28/28), 18.61 MiB | 2.69 MiB/s, done.\n"
          ]
        }
      ],
      "source": [
        "!git clone https://github.com/RizkiNoor16/Machine-vision-test-challenge.git"
      ]
    },
    {
      "cell_type": "code",
      "source": [
        "import zipfile\n",
        "\n",
        "zip_ref = zipfile.ZipFile('/content/Machine-vision-test-challenge/dataset/Test Set - Vision Test.zip')\n",
        "zip_ref.extractall()\n",
        "zip_ref.close()"
      ],
      "metadata": {
        "id": "LutnrPwH2Mj6"
      },
      "execution_count": null,
      "outputs": []
    },
    {
      "cell_type": "code",
      "source": [
        "import tensorflow as tf\n",
        "from tensorflow.keras.preprocessing.image import ImageDataGenerator\n",
        "\n",
        "# membuat objek ImageDataGenerator\n",
        "datagen = ImageDataGenerator(\n",
        "    rotation_range=20,  # rotasi gambar dalam rentang 20 derajat\n",
        "    zoom_range=0.2,  # zoom gambar dalam rentang 0.2\n",
        "    horizontal_flip=True,  # flipping horizontal\n",
        "    vertical_flip=False,  # flipping vertikal\n",
        "    width_shift_range=0.2,  # shifting gambar sejauh 0.2 dari lebar gambar\n",
        "    height_shift_range=0.2,  # shifting gambar sejauh 0.2 dari tinggi gambar\n",
        "    shear_range=0.2,  # shear transformation\n",
        "    fill_mode='nearest'  # mode untuk pengisian pixel kosong (nearest untuk mempertahankan warna asli)\n",
        ")\n"
      ],
      "metadata": {
        "id": "ChmF40YW2af4"
      },
      "execution_count": null,
      "outputs": []
    },
    {
      "cell_type": "code",
      "source": [
        "import os\n",
        "os.mkdir('Aug')"
      ],
      "metadata": {
        "id": "k5m_nMr921H4"
      },
      "execution_count": null,
      "outputs": []
    },
    {
      "cell_type": "code",
      "source": [
        "# load gambar\n",
        "img = tf.keras.preprocessing.image.load_img('/content/test set/4752.png')\n",
        "x = tf.keras.preprocessing.image.img_to_array(img)\n",
        "x = x.reshape((1,) + x.shape)  # mengubah bentuk gambar menjadi (1, width, height, channels)\n",
        "\n",
        "# melakukan augmentasi pada gambar\n",
        "i = 0\n",
        "for batch in datagen.flow(x, batch_size=1, save_to_dir='/content/Aug', save_prefix='aug', save_format='png'):\n",
        "    i += 1\n",
        "    if i > 10:\n",
        "        break  # keluar dari loop setelah menghasilkan 10 gambar baru"
      ],
      "metadata": {
        "id": "jz8ykjMR2tmo"
      },
      "execution_count": null,
      "outputs": []
    },
    {
      "cell_type": "code",
      "source": [
        "img = tf.keras.preprocessing.image.load_img('/content/test set/4757.png')\n",
        "x = tf.keras.preprocessing.image.img_to_array(img)\n",
        "x = x.reshape((1,) + x.shape)\n",
        "\n",
        "i = 0\n",
        "for batch in datagen.flow(x, batch_size=1, save_to_dir='/content/Aug', save_prefix='aug1', save_format='png'):\n",
        "    i += 1\n",
        "    if i > 10:\n",
        "        break "
      ],
      "metadata": {
        "id": "tAWFZlRy2-VZ"
      },
      "execution_count": null,
      "outputs": []
    },
    {
      "cell_type": "code",
      "source": [
        "img = tf.keras.preprocessing.image.load_img('/content/test set/4901.png')\n",
        "x = tf.keras.preprocessing.image.img_to_array(img)\n",
        "x = x.reshape((1,) + x.shape)\n",
        "\n",
        "i = 0\n",
        "for batch in datagen.flow(x, batch_size=1, save_to_dir='/content/Aug', save_prefix='aug2', save_format='png'):\n",
        "    i += 1\n",
        "    if i > 10:\n",
        "        break "
      ],
      "metadata": {
        "id": "HGZ1Hxvt4GyK"
      },
      "execution_count": null,
      "outputs": []
    },
    {
      "cell_type": "code",
      "source": [
        "img = tf.keras.preprocessing.image.load_img('/content/test set/4967.png')\n",
        "x = tf.keras.preprocessing.image.img_to_array(img)\n",
        "x = x.reshape((1,) + x.shape)\n",
        "\n",
        "i = 0\n",
        "for batch in datagen.flow(x, batch_size=1, save_to_dir='/content/Aug', save_prefix='aug3', save_format='png'):\n",
        "    i += 1\n",
        "    if i > 10:\n",
        "        break "
      ],
      "metadata": {
        "id": "HXZK0esl5AKp"
      },
      "execution_count": null,
      "outputs": []
    },
    {
      "cell_type": "code",
      "source": [
        "img = tf.keras.preprocessing.image.load_img('/content/test set/4983.png')\n",
        "x = tf.keras.preprocessing.image.img_to_array(img)\n",
        "x = x.reshape((1,) + x.shape)\n",
        "\n",
        "i = 0\n",
        "for batch in datagen.flow(x, batch_size=1, save_to_dir='/content/Aug', save_prefix='aug4', save_format='png'):\n",
        "    i += 1\n",
        "    if i > 10:\n",
        "        break "
      ],
      "metadata": {
        "id": "bvK-Bh6A5h4i"
      },
      "execution_count": null,
      "outputs": []
    },
    {
      "cell_type": "code",
      "source": [
        "img = tf.keras.preprocessing.image.load_img('/content/test set/5071.png')\n",
        "x = tf.keras.preprocessing.image.img_to_array(img)\n",
        "x = x.reshape((1,) + x.shape)\n",
        "\n",
        "i = 0\n",
        "for batch in datagen.flow(x, batch_size=1, save_to_dir='/content/Aug', save_prefix='aug5', save_format='png'):\n",
        "    i += 1\n",
        "    if i > 10:\n",
        "        break "
      ],
      "metadata": {
        "id": "QRNiTz7w5q0R"
      },
      "execution_count": null,
      "outputs": []
    },
    {
      "cell_type": "code",
      "source": [
        "img = tf.keras.preprocessing.image.load_img('/content/test set/5146.png')\n",
        "x = tf.keras.preprocessing.image.img_to_array(img)\n",
        "x = x.reshape((1,) + x.shape)\n",
        "\n",
        "i = 0\n",
        "for batch in datagen.flow(x, batch_size=1, save_to_dir='/content/Aug', save_prefix='aug6', save_format='png'):\n",
        "    i += 1\n",
        "    if i > 10:\n",
        "        break "
      ],
      "metadata": {
        "id": "c0bO4F9v5wB5"
      },
      "execution_count": null,
      "outputs": []
    },
    {
      "cell_type": "code",
      "source": [
        "img = tf.keras.preprocessing.image.load_img('/content/test set/5211.png')\n",
        "x = tf.keras.preprocessing.image.img_to_array(img)\n",
        "x = x.reshape((1,) + x.shape)\n",
        "\n",
        "i = 0\n",
        "for batch in datagen.flow(x, batch_size=1, save_to_dir='/content/Aug', save_prefix='aug7', save_format='png'):\n",
        "    i += 1\n",
        "    if i > 10:\n",
        "        break "
      ],
      "metadata": {
        "id": "-TdZ9pwm5zsZ"
      },
      "execution_count": null,
      "outputs": []
    },
    {
      "cell_type": "code",
      "source": [
        "img = tf.keras.preprocessing.image.load_img('/content/test set/5290.png')\n",
        "x = tf.keras.preprocessing.image.img_to_array(img)\n",
        "x = x.reshape((1,) + x.shape)\n",
        "\n",
        "i = 0\n",
        "for batch in datagen.flow(x, batch_size=1, save_to_dir='/content/Aug', save_prefix='aug8', save_format='png'):\n",
        "    i += 1\n",
        "    if i > 10:\n",
        "        break "
      ],
      "metadata": {
        "id": "kPqxlInl53Td"
      },
      "execution_count": null,
      "outputs": []
    },
    {
      "cell_type": "code",
      "source": [
        "img = tf.keras.preprocessing.image.load_img('/content/test set/5451.png')\n",
        "x = tf.keras.preprocessing.image.img_to_array(img)\n",
        "x = x.reshape((1,) + x.shape)\n",
        "\n",
        "i = 0\n",
        "for batch in datagen.flow(x, batch_size=1, save_to_dir='/content/Aug', save_prefix='aug9', save_format='png'):\n",
        "    i += 1\n",
        "    if i > 10:\n",
        "        break "
      ],
      "metadata": {
        "id": "Cl0oMsVa6Auf"
      },
      "execution_count": null,
      "outputs": []
    },
    {
      "cell_type": "code",
      "source": [
        "img = tf.keras.preprocessing.image.load_img('/content/test set/5553.png')\n",
        "x = tf.keras.preprocessing.image.img_to_array(img)\n",
        "x = x.reshape((1,) + x.shape)\n",
        "\n",
        "i = 0\n",
        "for batch in datagen.flow(x, batch_size=1, save_to_dir='/content/Aug', save_prefix='aug10', save_format='png'):\n",
        "    i += 1\n",
        "    if i > 10:\n",
        "        break "
      ],
      "metadata": {
        "id": "VM6zDCID6Fzy"
      },
      "execution_count": null,
      "outputs": []
    },
    {
      "cell_type": "code",
      "source": [
        "img = tf.keras.preprocessing.image.load_img('/content/test set/5655.png')\n",
        "x = tf.keras.preprocessing.image.img_to_array(img)\n",
        "x = x.reshape((1,) + x.shape)\n",
        "\n",
        "i = 0\n",
        "for batch in datagen.flow(x, batch_size=1, save_to_dir='/content/Aug', save_prefix='aug11', save_format='png'):\n",
        "    i += 1\n",
        "    if i > 10:\n",
        "        break "
      ],
      "metadata": {
        "id": "wu8Oso0T6Sdp"
      },
      "execution_count": null,
      "outputs": []
    },
    {
      "cell_type": "code",
      "source": [
        "img = tf.keras.preprocessing.image.load_img('/content/test set/5859.png')\n",
        "x = tf.keras.preprocessing.image.img_to_array(img)\n",
        "x = x.reshape((1,) + x.shape)\n",
        "\n",
        "i = 0\n",
        "for batch in datagen.flow(x, batch_size=1, save_to_dir='/content/Aug', save_prefix='aug12', save_format='png'):\n",
        "    i += 1\n",
        "    if i > 10:\n",
        "        break "
      ],
      "metadata": {
        "id": "-t9bha4Q6WbZ"
      },
      "execution_count": null,
      "outputs": []
    },
    {
      "cell_type": "code",
      "source": [
        "img = tf.keras.preprocessing.image.load_img('/content/test set/6063.png')\n",
        "x = tf.keras.preprocessing.image.img_to_array(img)\n",
        "x = x.reshape((1,) + x.shape)\n",
        "\n",
        "i = 0\n",
        "for batch in datagen.flow(x, batch_size=1, save_to_dir='/content/Aug', save_prefix='aug13', save_format='png'):\n",
        "    i += 1\n",
        "    if i > 10:\n",
        "        break"
      ],
      "metadata": {
        "id": "dMbYG1006b7B"
      },
      "execution_count": null,
      "outputs": []
    },
    {
      "cell_type": "code",
      "source": [
        "img = tf.keras.preprocessing.image.load_img('/content/test set/6165.png')\n",
        "x = tf.keras.preprocessing.image.img_to_array(img)\n",
        "x = x.reshape((1,) + x.shape)\n",
        "\n",
        "i = 0\n",
        "for batch in datagen.flow(x, batch_size=1, save_to_dir='/content/Aug', save_prefix='aug14', save_format='png'):\n",
        "    i += 1\n",
        "    if i > 10:\n",
        "        break"
      ],
      "metadata": {
        "id": "jC4CBcES6juS"
      },
      "execution_count": null,
      "outputs": []
    },
    {
      "cell_type": "code",
      "source": [
        "img = tf.keras.preprocessing.image.load_img('/content/test set/6267.png')\n",
        "x = tf.keras.preprocessing.image.img_to_array(img)\n",
        "x = x.reshape((1,) + x.shape)\n",
        "\n",
        "i = 0\n",
        "for batch in datagen.flow(x, batch_size=1, save_to_dir='/content/Aug', save_prefix='aug15', save_format='png'):\n",
        "    i += 1\n",
        "    if i > 10:\n",
        "        break"
      ],
      "metadata": {
        "id": "K9Yw5lg_6nS7"
      },
      "execution_count": null,
      "outputs": []
    },
    {
      "cell_type": "code",
      "source": [
        "img = tf.keras.preprocessing.image.load_img('/content/test set/6369.png')\n",
        "x = tf.keras.preprocessing.image.img_to_array(img)\n",
        "x = x.reshape((1,) + x.shape)\n",
        "\n",
        "i = 0\n",
        "for batch in datagen.flow(x, batch_size=1, save_to_dir='/content/Aug', save_prefix='aug16', save_format='png'):\n",
        "    i += 1\n",
        "    if i > 10:\n",
        "        break"
      ],
      "metadata": {
        "id": "6N7FDMHb6sCa"
      },
      "execution_count": null,
      "outputs": []
    },
    {
      "cell_type": "code",
      "source": [
        "img = tf.keras.preprocessing.image.load_img('/content/test set/6471.png')\n",
        "x = tf.keras.preprocessing.image.img_to_array(img)\n",
        "x = x.reshape((1,) + x.shape)\n",
        "\n",
        "i = 0\n",
        "for batch in datagen.flow(x, batch_size=1, save_to_dir='/content/Aug', save_prefix='aug17', save_format='png'):\n",
        "    i += 1\n",
        "    if i > 10:\n",
        "        break"
      ],
      "metadata": {
        "id": "lV_0g63c6yAq"
      },
      "execution_count": null,
      "outputs": []
    },
    {
      "cell_type": "code",
      "source": [
        "img = tf.keras.preprocessing.image.load_img('/content/test set/6573.png')\n",
        "x = tf.keras.preprocessing.image.img_to_array(img)\n",
        "x = x.reshape((1,) + x.shape)\n",
        "\n",
        "i = 0\n",
        "for batch in datagen.flow(x, batch_size=1, save_to_dir='/content/Aug', save_prefix='aug18', save_format='png'):\n",
        "    i += 1\n",
        "    if i > 10:\n",
        "        break"
      ],
      "metadata": {
        "id": "Q-FCKOMU62Za"
      },
      "execution_count": null,
      "outputs": []
    },
    {
      "cell_type": "code",
      "source": [
        "img = tf.keras.preprocessing.image.load_img('/content/test set/6680.png')\n",
        "x = tf.keras.preprocessing.image.img_to_array(img)\n",
        "x = x.reshape((1,) + x.shape)\n",
        "\n",
        "i = 0\n",
        "for batch in datagen.flow(x, batch_size=1, save_to_dir='/content/Aug', save_prefix='aug19', save_format='png'):\n",
        "    i += 1\n",
        "    if i > 10:\n",
        "        break"
      ],
      "metadata": {
        "id": "ygMOXM3a68w6"
      },
      "execution_count": null,
      "outputs": []
    },
    {
      "cell_type": "code",
      "source": [
        "img = tf.keras.preprocessing.image.load_img('/content/test set/6812.png')\n",
        "x = tf.keras.preprocessing.image.img_to_array(img)\n",
        "x = x.reshape((1,) + x.shape)\n",
        "\n",
        "i = 0\n",
        "for batch in datagen.flow(x, batch_size=1, save_to_dir='/content/Aug', save_prefix='aug20', save_format='png'):\n",
        "    i += 1\n",
        "    if i > 10:\n",
        "        break"
      ],
      "metadata": {
        "id": "tHhrGZlq7AXR"
      },
      "execution_count": null,
      "outputs": []
    },
    {
      "cell_type": "code",
      "source": [
        "img = tf.keras.preprocessing.image.load_img('/content/test set/6879.png')\n",
        "x = tf.keras.preprocessing.image.img_to_array(img)\n",
        "x = x.reshape((1,) + x.shape)\n",
        "\n",
        "i = 0\n",
        "for batch in datagen.flow(x, batch_size=1, save_to_dir='/content/Aug', save_prefix='aug21', save_format='png'):\n",
        "    i += 1\n",
        "    if i > 10:\n",
        "        break"
      ],
      "metadata": {
        "id": "hAfaO3i67Gcp"
      },
      "execution_count": null,
      "outputs": []
    },
    {
      "cell_type": "code",
      "source": [
        "img = tf.keras.preprocessing.image.load_img('/content/test set/965.png')\n",
        "x = tf.keras.preprocessing.image.img_to_array(img)\n",
        "x = x.reshape((1,) + x.shape)\n",
        "\n",
        "i = 0\n",
        "for batch in datagen.flow(x, batch_size=1, save_to_dir='/content/Aug', save_prefix='aug22', save_format='png'):\n",
        "    i += 1\n",
        "    if i > 10:\n",
        "        break"
      ],
      "metadata": {
        "id": "e_AMAjsI7L_x"
      },
      "execution_count": null,
      "outputs": []
    },
    {
      "cell_type": "code",
      "source": [
        "import shutil\n",
        "shutil.make_archive('augmentasi_images', 'zip', '/content/Aug')"
      ],
      "metadata": {
        "id": "RPP01_Ot7UGZ",
        "colab": {
          "base_uri": "https://localhost:8080/",
          "height": 35
        },
        "outputId": "5f8d1448-94be-423e-c62b-9cf66e919e62"
      },
      "execution_count": null,
      "outputs": [
        {
          "output_type": "execute_result",
          "data": {
            "text/plain": [
              "'/content/augmentasi_images.zip'"
            ],
            "application/vnd.google.colaboratory.intrinsic+json": {
              "type": "string"
            }
          },
          "metadata": {},
          "execution_count": 28
        }
      ]
    },
    {
      "cell_type": "code",
      "source": [],
      "metadata": {
        "id": "RPbuDBPW9fUb"
      },
      "execution_count": null,
      "outputs": []
    }
  ]
}